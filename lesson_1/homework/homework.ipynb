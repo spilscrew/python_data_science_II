{
 "cells": [
  {
   "cell_type": "markdown",
   "id": "coupled-ozone",
   "metadata": {},
   "source": [
    "1. Приведите по 2 примера, когда лучше максимизировать Precision, а когда Recall."
   ]
  },
  {
   "cell_type": "markdown",
   "id": "numerous-consolidation",
   "metadata": {},
   "source": [
    "Precision - доступ по отпечатку пальцев\n",
    "\n",
    "Recall - интернет поиск "
   ]
  },
  {
   "cell_type": "markdown",
   "id": "sharing-symphony",
   "metadata": {},
   "source": [
    "2. Почему мы используем F-меру, почему, например, нельзя просто взять среднее от Precision и Recall?"
   ]
  },
  {
   "cell_type": "code",
   "execution_count": null,
   "id": "nonprofit-creativity",
   "metadata": {},
   "outputs": [],
   "source": []
  }
 ],
 "metadata": {
  "kernelspec": {
   "display_name": "Python 3",
   "language": "python",
   "name": "python3"
  },
  "language_info": {
   "codemirror_mode": {
    "name": "ipython",
    "version": 3
   },
   "file_extension": ".py",
   "mimetype": "text/x-python",
   "name": "python",
   "nbconvert_exporter": "python",
   "pygments_lexer": "ipython3",
   "version": "3.8.5"
  }
 },
 "nbformat": 4,
 "nbformat_minor": 5
}
